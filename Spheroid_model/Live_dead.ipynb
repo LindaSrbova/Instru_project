{
 "cells": [
  {
   "cell_type": "code",
   "execution_count": 2,
   "metadata": {},
   "outputs": [],
   "source": [
    "import cv2\n",
    "import glob\n",
    "import os\n",
    "import numpy as np\n",
    "import nd2reader\n",
    "import matplotlib.pyplot as plt\n",
    "import nd2\n"
   ]
  },
  {
   "cell_type": "markdown",
   "metadata": {},
   "source": [
    "Loading paths"
   ]
  },
  {
   "cell_type": "code",
   "execution_count": 3,
   "metadata": {},
   "outputs": [
    {
     "name": "stdout",
     "output_type": "stream",
     "text": [
      "['E:/instru_projects/LIveDead_spheroids/22mM\\\\240830_Uwell_IPN_22mM_2mgml_132h_spheroidculture_LD_10x.nd2', 'E:/instru_projects/LIveDead_spheroids/22mM\\\\240830_Uwell_IPN_22mM_2mgml_132h_spheroidculture_LD_20x.nd2', 'E:/instru_projects/LIveDead_spheroids/22mM\\\\240830_Uwell_IPN_22mM_2mgml_132h_spheroidculture_LD_20x_avg.nd2', 'E:/instru_projects/LIveDead_spheroids/22mM\\\\240911_Uwell_IPN15_3mM_2mgml_118h_spheroidculture_LD_10x_avg.nd2']\n",
      "{'height': 2304, 'width': 2304, 'date': datetime.datetime(2024, 3, 9, 11, 9, 52), 'fields_of_view': range(0, 9), 'frames': [0], 'z_levels': range(0, 15), 'z_coordinates': [2653.38, 2656.4, 2659.4, 2662.42, 2665.42, 2668.42, 2671.4, 2674.38, 2677.42, 2680.42, 2683.4, 2686.4, 2689.4, 2692.42, 2695.44, 2678.7000000000003, 2681.7000000000003, 2684.7000000000003, 2687.7400000000002, 2690.7200000000003, 2693.7000000000003, 2696.7200000000003, 2699.7000000000003, 2702.7400000000002, 2705.7400000000002, 2708.7200000000003, 2711.7200000000003, 2714.7400000000002, 2717.7200000000003, 2720.7400000000002, 3530.54, 3533.56, 3536.58, 3539.56, 3542.56, 3545.6, 3548.56, 3551.58, 3554.56, 3557.58, 3560.6, 3563.56, 3566.58, 3569.58, 3572.56, 3261.1800000000003, 3264.28, 3267.3, 3270.28, 3273.3, 3276.32, 3279.32, 3282.3, 3285.32, 3288.28, 3291.3, 3294.28, 3297.3, 3300.32, 3303.3, 3706.36, 3709.36, 3712.4, 3715.38, 3718.38, 3721.4, 3724.4, 3727.4, 3730.36, 3733.4, 3736.4, 3739.4, 3742.42, 3745.42, 3748.38, 3570.76, 3573.86, 3576.88, 3579.84, 3582.86, 3585.84, 3588.86, 3591.84, 3594.84, 3597.84, 3600.88, 3603.86, 3606.84, 3609.86, 3612.86, 2529.04, 2532.1, 2535.12, 2538.1, 2541.12, 2544.14, 2547.12, 2550.1, 2553.14, 2556.1, 2559.12, 2562.08, 2565.1, 2568.12, 2571.08, 2476.62, 2479.68, 2482.68, 2485.68, 2488.7000000000003, 2491.64, 2494.66, 2497.66, 2500.68, 2503.66, 2506.68, 2509.66, 2512.68, 2515.64, 2518.68, 2688.5, 2691.5, 2694.48, 2697.5, 2700.48, 2703.52, 2706.5, 2709.5, 2712.52, 2715.52, 2718.48, 2721.52, 2724.5, 2727.5, 2730.5], 'total_images_per_channel': 135, 'channels': ['Red', 'BF', 'GreenTracker'], 'pixel_microns': 0.660535171355723, 'num_frames': 1, 'experiment': {'description': 'ND Acquisition', 'loops': []}, 'events': []}\n",
      "{'height': 2304, 'width': 2304, 'date': datetime.datetime(2024, 3, 9, 11, 27, 52), 'fields_of_view': range(0, 9), 'frames': [0], 'z_levels': range(0, 15), 'z_coordinates': [2727.28, 2730.3, 2733.32, 2736.32, 2739.34, 2742.32, 2745.32, 2748.34, 2751.34, 2754.34, 2757.34, 2760.36, 2763.34, 2766.32, 2769.36, 2734.52, 2737.56, 2740.52, 2743.58, 2746.56, 2749.56, 2752.58, 2755.56, 2758.56, 2761.56, 2764.58, 2767.56, 2770.52, 2773.6, 2776.56, 3595.64, 3598.62, 3601.64, 3604.62, 3607.64, 3610.66, 3613.62, 3616.66, 3619.64, 3622.66, 3625.6800000000003, 3628.62, 3631.64, 3634.66, 3637.66, 3261.02, 3264.1, 3267.1, 3270.1, 3273.14, 3276.12, 3279.1, 3282.12, 3285.12, 3288.12, 3291.12, 3294.14, 3297.12, 3300.12, 3303.12, 3780.66, 3783.62, 3786.66, 3789.64, 3792.66, 3795.6800000000003, 3798.64, 3801.6800000000003, 3804.64, 3807.66, 3810.6800000000003, 3813.64, 3816.66, 3819.66, 3822.64, 3623.06, 3626.12, 3629.12, 3632.12, 3635.12, 3638.14, 3641.12, 3644.12, 3647.12, 3650.12, 3653.14, 3656.14, 3659.12, 3662.14, 3665.12, 2577.86, 2580.98, 2583.98, 2586.98, 2589.98, 2592.98, 2596.02, 2598.98, 2601.98, 2604.96, 2607.98, 2611.0, 2613.96, 2617.0, 2620.0, 2570.7400000000002, 2573.7400000000002, 2576.76, 2579.7400000000002, 2582.7400000000002, 2585.76, 2588.76, 2591.78, 2594.78, 2597.78, 2600.76, 2603.7200000000003, 2606.8, 2609.76, 2612.76, 2783.5, 2786.5, 2789.5, 2792.52, 2795.54, 2798.54, 2801.5, 2804.54, 2807.54, 2810.54, 2813.54, 2816.52, 2819.54, 2822.54, 2825.52], 'total_images_per_channel': 135, 'channels': ['Red', 'BF', 'GreenTracker'], 'pixel_microns': 0.335862576429568, 'num_frames': 1, 'experiment': {'description': 'ND Acquisition', 'loops': []}, 'events': []}\n",
      "{'height': 2304, 'width': 2304, 'date': datetime.datetime(2024, 3, 9, 11, 45, 31), 'fields_of_view': range(0, 9), 'frames': [0], 'z_levels': range(0, 15), 'z_coordinates': [2727.32, 2730.32, 2733.3, 2736.34, 2739.36, 2742.34, 2745.34, 2748.32, 2751.32, 2754.34, 2757.34, 2760.36, 2763.34, 2766.32, 2769.36, 2734.5, 2737.54, 2740.54, 2743.58, 2746.54, 2749.54, 2752.54, 2755.54, 2758.54, 2761.56, 2764.54, 2767.56, 2770.56, 2773.6, 2776.58, 3595.58, 3598.58, 3601.62, 3604.58, 3607.6, 3610.6, 3613.6, 3616.64, 3619.62, 3622.62, 3625.64, 3628.58, 3631.6, 3634.62, 3637.62, 3261.08, 3264.1, 3267.1, 3270.1, 3273.14, 3276.12, 3279.12, 3282.12, 3285.12, 3288.12, 3291.1, 3294.1, 3297.12, 3300.12, 3303.12, 3780.66, 3783.62, 3786.64, 3789.64, 3792.64, 3795.66, 3798.64, 3801.66, 3804.62, 3807.64, 3810.6800000000003, 3813.64, 3816.66, 3819.66, 3822.64, 3622.9, 3625.96, 3629.0, 3632.0, 3635.02, 3638.04, 3641.0, 3644.02, 3647.02, 3649.98, 3653.02, 3656.04, 3659.02, 3662.02, 3665.02, 2577.9, 2580.98, 2583.98, 2586.98, 2589.98, 2593.02, 2595.98, 2599.0, 2602.0, 2604.98, 2608.0, 2611.0, 2613.94, 2617.02, 2619.98, 2570.7200000000003, 2573.7000000000003, 2576.78, 2579.7200000000003, 2582.78, 2585.7400000000002, 2588.7400000000002, 2591.78, 2594.76, 2597.7400000000002, 2600.78, 2603.7400000000002, 2606.76, 2609.76, 2612.76, 2783.46, 2786.46, 2789.5, 2792.5, 2795.52, 2798.5, 2801.48, 2804.5, 2807.5, 2810.48, 2813.5, 2816.5, 2819.52, 2822.48, 2825.5], 'total_images_per_channel': 135, 'channels': ['Red', 'BF', 'GreenTracker'], 'pixel_microns': 0.335862576429568, 'num_frames': 1, 'experiment': {'description': 'ND Acquisition', 'loops': []}, 'events': []}\n",
      "{'height': 2304, 'width': 2304, 'date': datetime.datetime(2024, 11, 9, 15, 46, 5), 'fields_of_view': range(0, 10), 'frames': range(0, 1), 'z_levels': range(0, 21), 'z_coordinates': [2765.86, 2775.94, 2785.94, 2795.88, 2805.92, 2815.9, 2825.96, 2835.94, 2845.92, 2855.96, 2865.96, 2875.92, 2885.96, 2895.96, 2905.94, 2915.92, 2925.92, 2935.92, 2945.92, 2955.92, 2965.96, 2775.7400000000002, 2785.78, 2795.82, 2805.8, 2815.8, 2825.82, 2835.8, 2845.8, 2855.86, 2865.82, 2875.84, 2885.82, 2895.86, 2905.84, 2915.82, 2925.84, 2935.8, 2945.82, 2955.82, 2965.82, 2975.82, 3252.98, 3263.02, 3273.04, 3283.06, 3293.04, 3303.04, 3313.06, 3323.12, 3333.12, 3343.12, 3353.06, 3363.08, 3373.08, 3383.08, 3393.08, 3403.06, 3413.1, 3423.08, 3433.08, 3443.1, 3453.06, 3094.66, 3104.7200000000003, 3114.7400000000002, 3124.7200000000003, 3134.7400000000002, 3144.76, 3154.78, 3164.78, 3174.7400000000002, 3184.78, 3194.78, 3204.78, 3214.76, 3224.78, 3234.8, 3244.76, 3254.78, 3264.78, 3274.76, 3284.78, 3294.78, 2959.7200000000003, 2969.78, 2979.76, 2989.76, 2999.8, 3009.78, 3019.78, 3029.78, 3039.78, 3049.8, 3059.8, 3069.78, 3079.8, 3089.8, 3099.84, 3109.8, 3119.82, 3129.82, 3139.84, 3149.82, 3159.82, 3020.2000000000003, 3030.28, 3040.3, 3050.3, 3060.28, 3070.32, 3080.32, 3090.34, 3100.36, 3110.34, 3120.36, 3130.38, 3140.36, 3150.34, 3160.34, 3170.34, 3180.36, 3190.34, 3200.34, 3210.34, 3220.36, 3222.48, 3232.56, 3242.56, 3252.52, 3262.58, 3272.58, 3282.6, 3292.6, 3302.62, 3312.58, 3322.62, 3332.6, 3342.6, 3352.6, 3362.6, 3372.62, 3382.62, 3392.6, 3402.6, 3412.6, 3422.6, 3334.64, 3344.7000000000003, 3354.7400000000002, 3364.7200000000003, 3374.7400000000002, 3384.7400000000002, 3394.76, 3404.76, 3414.78, 3424.8, 3434.76, 3444.76, 3454.7400000000002, 3464.76, 3474.78, 3484.76, 3494.7400000000002, 3504.76, 3514.78, 3524.78, 3534.76, 2888.2400000000002, 2898.3, 2908.28, 2918.3, 2928.3, 2938.32, 2948.3, 2958.32, 2968.34, 2978.34, 2988.32, 2998.32, 3008.34, 3018.32, 3028.32, 3038.34, 3048.32, 3058.32, 3068.34, 3078.34, 3088.34, 2694.38, 2704.48, 2714.5, 2724.48, 2734.52, 2744.5, 2754.52, 2764.5, 2774.5, 2784.52, 2794.5, 2804.5, 2814.5, 2824.52, 2834.54, 2844.52, 2854.52, 2864.54, 2874.54, 2884.54, 2894.54], 'total_images_per_channel': 210, 'channels': ['Red', 'FITC', 'Red', 'BF', 'GreenTracker'], 'pixel_microns': 0.660535171355723, 'num_frames': 1, 'experiment': {'description': 'ND Acquisition', 'loops': []}, 'events': []}\n"
     ]
    }
   ],
   "source": [
    "paths = glob.glob(os.path.join(\"E:/instru_projects/LIveDead_spheroids/22mM/\",\"*.nd2\"))\n",
    "print(paths)\n",
    "\n",
    "for count, i_path in enumerate(paths):\n",
    "    with nd2reader.ND2Reader(i_path) as images:\n",
    "        print(images.metadata)"
   ]
  },
  {
   "cell_type": "code",
   "execution_count": 8,
   "metadata": {},
   "outputs": [
    {
     "name": "stdout",
     "output_type": "stream",
     "text": [
      "['D:/instru_projects/LIveDead_spheroids\\\\241204.nd2', 'D:/instru_projects/LIveDead_spheroids\\\\241204_1.nd2']\n",
      "{'height': 2304, 'width': 2304, 'date': datetime.datetime(2024, 4, 12, 17, 56, 43), 'fields_of_view': range(0, 6), 'frames': [0], 'z_levels': [], 'z_coordinates': [3524.6800000000003, 2711.06, 4163.8, 2723.66, 4138.8, 4144.38], 'total_images_per_channel': 6, 'channels': ['FITC', 'Red', 'BF'], 'pixel_microns': 0.660535171355723, 'num_frames': 1, 'experiment': {'description': 'ND Acquisition', 'loops': []}, 'events': []}\n",
      "{'height': 2304, 'width': 2304, 'date': datetime.datetime(2024, 4, 12, 17, 58, 47), 'fields_of_view': range(0, 6), 'frames': [0], 'z_levels': [], 'z_coordinates': [3524.66, 2711.04, 4163.84, 2723.6, 4138.8, 4144.34], 'total_images_per_channel': 6, 'channels': ['FITC', 'Red', 'BF'], 'pixel_microns': 0.660535171355723, 'num_frames': 1, 'experiment': {'description': 'ND Acquisition', 'loops': []}, 'events': []}\n"
     ]
    }
   ],
   "source": [
    "paths = glob.glob(os.path.join(\"D:/instru_projects/LIveDead_spheroids/\",\"*.nd2\"))\n",
    "print(paths)\n",
    "\n",
    "for count, i_path in enumerate(paths):\n",
    "    with nd2reader.ND2Reader(i_path) as images:\n",
    "        print(images.metadata)"
   ]
  },
  {
   "cell_type": "code",
   "execution_count": 10,
   "metadata": {},
   "outputs": [
    {
     "name": "stdout",
     "output_type": "stream",
     "text": [
      "<FramesSequenceND>\n",
      "Axes: 5\n",
      "Axis 'x' size: 2304\n",
      "Axis 'y' size: 2304\n",
      "Axis 'c' size: 3\n",
      "Axis 't' size: 1\n",
      "Axis 'v' size: 2\n",
      "Pixel Datatype: <class 'numpy.float64'>\n"
     ]
    }
   ],
   "source": [
    "paths = nd2reader.ND2Reader(\"D:/instru_projects/LIveDead_spheroids/241220/viability_9days001.nd2\")\n",
    "print(paths)\n"
   ]
  },
  {
   "cell_type": "code",
   "execution_count": 7,
   "metadata": {},
   "outputs": [
    {
     "name": "stdout",
     "output_type": "stream",
     "text": [
      "D:/instru_projects/LIveDead_spheroids/241220\\241220_001.nd2 {'height': 2304, 'width': 2304, 'date': datetime.datetime(2024, 12, 20, 18, 7, 9), 'fields_of_view': range(0, 2), 'frames': [0], 'z_levels': [], 'z_coordinates': [4557.02, 3691.32], 'total_images_per_channel': 2, 'channels': ['FITC', 'Red', 'BF'], 'pixel_microns': 0.44035678090381536, 'num_frames': 1, 'experiment': {'description': 'ND Acquisition', 'loops': []}, 'events': []}\n",
      "D:/instru_projects/LIveDead_spheroids/241220\\241220_002.nd2 {'height': 2304, 'width': 2304, 'date': datetime.datetime(2024, 12, 20, 18, 8, 32), 'fields_of_view': range(0, 2), 'frames': [0], 'z_levels': [], 'z_coordinates': [4556.96, 3691.34], 'total_images_per_channel': 2, 'channels': ['FITC', 'Red', 'BF'], 'pixel_microns': 0.44035678090381536, 'num_frames': 1, 'experiment': {'description': 'ND Acquisition', 'loops': []}, 'events': []}\n",
      "D:/instru_projects/LIveDead_spheroids/241220\\241220_003.nd2 {'height': 2304, 'width': 2304, 'date': datetime.datetime(2024, 12, 20, 18, 5, 10), 'fields_of_view': [0], 'frames': [0], 'z_levels': [], 'z_coordinates': [4556.12], 'total_images_per_channel': 1, 'channels': ['FITC', 'Red', 'BF'], 'pixel_microns': 0.44035678090381536, 'num_frames': 1, 'experiment': {'description': 'ND Acquisition', 'loops': []}, 'events': []}\n"
     ]
    }
   ],
   "source": [
    "paths = glob.glob(os.path.join(\"D:/instru_projects/LIveDead_spheroids/241220/\",\"*.nd2\"))\n",
    "\n",
    "for i in paths:\n",
    "    with nd2reader.ND2Reader(i) as images:\n",
    "        images = images\n",
    "        print(i, images.metadata)"
   ]
  },
  {
   "cell_type": "markdown",
   "metadata": {},
   "source": [
    "Metadata parser"
   ]
  },
  {
   "cell_type": "code",
   "execution_count": 15,
   "metadata": {},
   "outputs": [],
   "source": [
    "\n",
    "def metadata(image):\n",
    "    meta_dict = {}\n",
    "    try:\n",
    "        meta_dict[\"n_fields\"] = image.metadata['fields_of_view'].stop \n",
    "    except:\n",
    "        meta_dict[\"n_fields\"] = image.metadata['fields_of_view']\n",
    "    meta_dict[\"n_frames\"] = image.metadata['num_frames']\n",
    " \n",
    "    #meta_dict[\"z_levels\"] =  float(image.metadata[\"z_coordinates\"][:image.metadata[\"z_levels\"].stop][-1]-image.metadata[\"z_coordinates\"][:image.metadata[\"z_levels\"].stop][0])/float(image.metadata[\"z_levels\"].stop)\n",
    "    #meta_dict[\"n_z_levels\"] = image.metadata['z_levels'].stop\n",
    "    #meta_dict[\"size_z_step\"] = meta_dict[\"z_level\"] /meta_dict[\"n_levels\"]\n",
    "    meta_dict[\"channels\"] = image.metadata['channels']\n",
    "    meta_dict[\"n_channels\"] = len(meta_dict[\"channels\"])\n",
    "    meta_dict[\"m\"] = image.metadata['pixel_microns']\n",
    "    meta_dict[\"height\"] = image.metadata[\"height\"]\n",
    "    meta_dict[\"width\"] = image.metadata[\"width\"]\n",
    " \n",
    "    return meta_dict\n",
    " "
   ]
  },
  {
   "cell_type": "markdown",
   "metadata": {},
   "source": [
    "Fluorescent images - no z-projection"
   ]
  },
  {
   "cell_type": "code",
   "execution_count": 65,
   "metadata": {},
   "outputs": [
    {
     "name": "stdout",
     "output_type": "stream",
     "text": [
      "{'height': 2304, 'width': 2304, 'date': datetime.datetime(2024, 12, 20, 18, 7, 9), 'fields_of_view': range(0, 2), 'frames': [0], 'z_levels': [], 'z_coordinates': [4557.02, 3691.32], 'total_images_per_channel': 2, 'channels': ['FITC', 'Red', 'BF'], 'pixel_microns': 0.44035678090381536, 'num_frames': 1, 'experiment': {'description': 'ND Acquisition', 'loops': []}, 'events': []}\n",
      "Field of view 0, ['FITC', 'Red', 'BF']\n"
     ]
    },
    {
     "ename": "error",
     "evalue": "OpenCV(4.10.0) D:/a/opencv-python/opencv-python/opencv/modules/imgproc/src/median_blur.simd.hpp:880: error: (-215:Assertion failed) src.depth() == CV_8U && (cn == 1 || cn == 3 || cn == 4) in function 'cv::opt_AVX2::medianBlur'\n",
     "output_type": "error",
     "traceback": [
      "\u001b[1;31m---------------------------------------------------------------------------\u001b[0m",
      "\u001b[1;31merror\u001b[0m                                     Traceback (most recent call last)",
      "Cell \u001b[1;32mIn[65], line 147\u001b[0m\n\u001b[0;32m    145\u001b[0m \u001b[38;5;28;01mfor\u001b[39;00m field \u001b[38;5;129;01min\u001b[39;00m \u001b[38;5;28mrange\u001b[39m(fields_of_view):\n\u001b[0;32m    146\u001b[0m     \u001b[38;5;28mprint\u001b[39m(\u001b[38;5;124mf\u001b[39m\u001b[38;5;124m\"\u001b[39m\u001b[38;5;124mField of view \u001b[39m\u001b[38;5;132;01m{\u001b[39;00mfield\u001b[38;5;132;01m}\u001b[39;00m\u001b[38;5;124m, \u001b[39m\u001b[38;5;132;01m{\u001b[39;00mchannels\u001b[38;5;132;01m}\u001b[39;00m\u001b[38;5;124m\"\u001b[39m)\n\u001b[1;32m--> 147\u001b[0m     mx_value \u001b[38;5;241m=\u001b[39m \u001b[43mchannel_max_no_z\u001b[49m\u001b[43m(\u001b[49m\u001b[43mimages\u001b[49m\u001b[43m,\u001b[49m\u001b[43m \u001b[49m\u001b[43mchannels\u001b[49m\u001b[43m,\u001b[49m\u001b[43m \u001b[49m\u001b[43mfield\u001b[49m\u001b[43m,\u001b[49m\u001b[43m \u001b[49m\u001b[43mz_levels\u001b[49m\u001b[43m,\u001b[49m\u001b[43m \u001b[49m\u001b[43mi_path\u001b[49m\u001b[43m)\u001b[49m\n\u001b[0;32m    148\u001b[0m     process_fov(images,channels, field, i_path, mx_value, z_levels)\n",
      "Cell \u001b[1;32mIn[65], line 18\u001b[0m, in \u001b[0;36mchannel_max_no_z\u001b[1;34m(images, channels, field, z_levels, i_path)\u001b[0m\n\u001b[0;32m     16\u001b[0m         frame \u001b[38;5;241m=\u001b[39m images\u001b[38;5;241m.\u001b[39mget_frame_2D(c\u001b[38;5;241m=\u001b[39mchannel_index, v\u001b[38;5;241m=\u001b[39mfield)\n\u001b[0;32m     17\u001b[0m         \u001b[38;5;28;01mif\u001b[39;00m channels[channel_index]\u001b[38;5;241m==\u001b[39m \u001b[38;5;124m'\u001b[39m\u001b[38;5;124mFITC\u001b[39m\u001b[38;5;124m'\u001b[39m:\n\u001b[1;32m---> 18\u001b[0m             frame \u001b[38;5;241m=\u001b[39m \u001b[43mchannel_background\u001b[49m\u001b[43m(\u001b[49m\u001b[43mframe\u001b[49m\u001b[43m)\u001b[49m\n\u001b[0;32m     19\u001b[0m         mx[channel_index] \u001b[38;5;241m=\u001b[39m np\u001b[38;5;241m.\u001b[39mmax(frame)\n\u001b[0;32m     20\u001b[0m mx \u001b[38;5;241m=\u001b[39m \u001b[38;5;28mmax\u001b[39m(mx)\n",
      "Cell \u001b[1;32mIn[65], line 66\u001b[0m, in \u001b[0;36mchannel_background\u001b[1;34m(channel_img)\u001b[0m\n\u001b[0;32m     65\u001b[0m \u001b[38;5;28;01mdef\u001b[39;00m \u001b[38;5;21mchannel_background\u001b[39m(channel_img):\n\u001b[1;32m---> 66\u001b[0m     background \u001b[38;5;241m=\u001b[39m \u001b[43mcv2\u001b[49m\u001b[38;5;241;43m.\u001b[39;49m\u001b[43mmedianBlur\u001b[49m\u001b[43m(\u001b[49m\u001b[43mchannel_img\u001b[49m\u001b[43m,\u001b[49m\u001b[43m \u001b[49m\u001b[38;5;241;43m253\u001b[39;49m\u001b[43m)\u001b[49m  \u001b[38;5;66;03m# Kernel size should be odd and large\u001b[39;00m\n\u001b[0;32m     67\u001b[0m     corrected_image \u001b[38;5;241m=\u001b[39m cv2\u001b[38;5;241m.\u001b[39msubtract(channel_img, background)\n\u001b[0;32m     68\u001b[0m     \u001b[38;5;28;01mreturn\u001b[39;00m corrected_image\n",
      "\u001b[1;31merror\u001b[0m: OpenCV(4.10.0) D:/a/opencv-python/opencv-python/opencv/modules/imgproc/src/median_blur.simd.hpp:880: error: (-215:Assertion failed) src.depth() == CV_8U && (cn == 1 || cn == 3 || cn == 4) in function 'cv::opt_AVX2::medianBlur'\n"
     ]
    }
   ],
   "source": [
    "def channel_max_no_z(images, channels, field, z_levels, i_path):\n",
    "    mx = np.zeros(len(channels))\n",
    "    parts = os.path.splitext(os.path.basename(i_path))[0].split('_')\n",
    "    \n",
    "    if parts[0] == '240830': # Adjust channel assignments for 240830\n",
    "        indexes_to_remove = [1]\n",
    "    elif parts[0] == '240830': # Adjust channel assignments for 240830\n",
    "        indexes_to_remove = [0,1,3]\n",
    "    elif parts[0] == '241204':\n",
    "        indexes_to_remove = [2]\n",
    "    else:\n",
    "        indexes_to_remove = []\n",
    "            \n",
    "    for channel_index, channel_name in enumerate(channels):\n",
    "        if channel_index not in indexes_to_remove:\n",
    "            frame = images.get_frame_2D(c=channel_index, v=field)\n",
    "            if channels[channel_index]== 'FITC':\n",
    "                frame = channel_background(frame)\n",
    "            mx[channel_index] = np.max(frame)\n",
    "    mx = max(mx)\n",
    "    return mx\n",
    "\n",
    "# Function assignign colors of pixels by channels \n",
    "def color_channel(fr,channel_index, img, i_path): #BGR order in cv2\n",
    "    parts = os.path.splitext(os.path.basename(i_path))[0].split('_')\n",
    "    \n",
    "    if parts[0] == '241204': # Adjust channel assignments for 240830\n",
    "        if channel_index == 0:  # First channel - FITC\n",
    "            img[:, :, 1] = fr # Set to green channel\n",
    "        elif channel_index == 1:  # Second channel - red\n",
    "            img[:, :, 2] = fr  # Set to red channel\n",
    "        elif channel_index == 2:  # Third channel - BF\n",
    "            img[:, :, 0] = 0  # Skip\n",
    "            \n",
    "    elif parts[0] == '240830': # Adjust channel assignments for 240830\n",
    "        if channel_index == 0:  # First channel - red tracker\n",
    "            img[:, :, 2] = fr\n",
    "        elif channel_index == 1:  # Second channel - brightfield\n",
    "            img[:, :, 0] = 0  # Skip this channel\n",
    "        elif channel_index == 2:  # Third channel - green tracker\n",
    "            img[:, :, 1] = fr  # Set to green channel\n",
    "   \n",
    "    elif parts[0] == '240911':  # Adjust channel assignments for 240911\n",
    "        if channel_index == 0: \n",
    "            img[:, :, 0] = 0  # Skip this channel\n",
    "        elif channel_index == 1:  \n",
    "            img[:, :, 0] = 0  # Skip this channel\n",
    "        elif channel_index == 2:  \n",
    "            img[:, :, 2] = fr  # Set to red channel\n",
    "        elif channel_index == 3:\n",
    "            img[:, :, 0] = 0  # Skip brightfield\n",
    "        elif channel_index == 4:\n",
    "            img[:, :, 1] = fr  # Set to green channel\n",
    "            \n",
    "    elif parts[0] == '241220':  # Adjust channel assignments for 240911\n",
    "        if channel_index == 0: #green\n",
    "            img[:, :, 1] = fr  #set to green\n",
    "        elif channel_index == 1:  #red\n",
    "            img[:, :, 2] = fr  #set to red\n",
    "        elif channel_index == 2:  \n",
    "            img[:, :, 0] = 0\n",
    "    return img\n",
    "\n",
    "# Removing fluorescent background signal\n",
    "def channel_background(channel_img):\n",
    "    background = cv2.medianBlur(channel_img, 253)  # Kernel size should be odd and large\n",
    "    corrected_image = cv2.subtract(channel_img, background)\n",
    "    return corrected_image  \n",
    "    \n",
    "def saving (img, field, i_path):\n",
    "    img_res = cv2.resize(img, (800, 600))\n",
    "    min_val, max_val = img.min(), img.max()\n",
    "    print(min_val,max_val)\n",
    "    base_name = os.path.splitext(os.path.basename(i_path))[0]    \n",
    "    parts = base_name.split('_')\n",
    "    \n",
    "    resized_image = cv2.resize(img, None, fx=0.3, fy=0.3, interpolation=cv2.INTER_LINEAR)   \n",
    "    cv2.imshow('Live_Dead', resized_image)\n",
    "    cv2.waitKey(0)\n",
    "    cv2.destroyAllWindows()  \n",
    "\n",
    "    output_subdir = os.path.join('C:/Users/srboval1/OneDrive - Aalto University/Instru/Datafiles/Exp2/LD/NO_z_projection/', f\"{base_name}\")\n",
    "    os.makedirs(output_subdir, exist_ok=True)\n",
    "\n",
    "    if parts[0] == '241204':\n",
    "        if field < 4:\n",
    "            name = os.path.join(output_subdir, f\"MCF10A_{parts[8:]}_{field}.png\")\n",
    "            cv2.imwrite(name, img_res)\n",
    "        else:\n",
    "            name = os.path.join(output_subdir, f\"DCIS_{parts[8:]}_{field}.png\")\n",
    "            cv2.imwrite(name, img_res)\n",
    "                \n",
    "    elif parts[0] == '240830':\n",
    "        if field < 3:\n",
    "            name = os.path.join(output_subdir, f\"MCF10A_{parts[8:]}_{field}.png\")\n",
    "            cv2.imwrite(name, img_res)\n",
    "        elif field > 4:\n",
    "            name = os.path.join(output_subdir, f\"DCIS_{parts[8:]}_{field}.png\")\n",
    "            cv2.imwrite(name, img_res)\n",
    "        else:\n",
    "            name = os.path.join(output_subdir, f\"MCF10AT_{parts[8:]}_{field}.png\")\n",
    "            cv2.imwrite(name, img_res)\n",
    "    elif parts[0] == '240911':\n",
    "        if 1 < field < 8:\n",
    "            name = os.path.join(output_subdir, f\"MCF10AT_{parts[8:]}_{field}.png\")\n",
    "            cv2.imwrite(name, img_res)\n",
    "        else:\n",
    "            name = os.path.join(output_subdir, f\"DCIS_{parts[8:]}_{field}.png\")\n",
    "            cv2.imwrite(name, img_res)\n",
    "    elif parts[0] == '241220':  # Adjust channel assignments for 240911\n",
    "            name = os.path.join(output_subdir, f\"MCF10AT_22mM_{parts[8:]}_{field}.png\")\n",
    "            cv2.imwrite(name, img_res)\n",
    "\n",
    "\n",
    "#Processing field of view\n",
    "def process_fov(images, channels, field, i_path, mx_value, z_levels):\n",
    "    height, width = images.get_frame_2D(c=1, z=len(z_levels)//2, v=field).shape\n",
    "    img = np.zeros((height, width, 3), dtype=np.uint8)\n",
    "\n",
    "    # Loop through each channel and assign colors\n",
    "    for channel_index, channel_name in enumerate(channels):\n",
    "        frame = images.get_frame_2D(c=channel_index, v=field)\n",
    "        if frame is None:\n",
    "            raise ValueError(f\"Frame for channel {channel_name} at field {field} could not be retrieved.\")\n",
    "        if channel_img.dtype != np.uint8:\n",
    "            print('not 8')\n",
    "            channel_img = np.clip(channel_img, 0, 255).astype(np.uint8)\n",
    "        fr_normalized = (frame/ mx_value *255).astype(np.uint8)\n",
    "        frame_8bit = np.clip(fr_normalized, 0, 255).astype(np.uint8)\n",
    "        if channels[channel_index]== 'FITC':\n",
    "                frame = channel_background(frame_8bit)\n",
    "        img = color_channel(frame_8bit, channel_index, img, i_path)\n",
    "\n",
    "    saving(img, field, i_path)      \n",
    "\n",
    "for count, i_path in enumerate(paths):\n",
    "    with nd2reader.ND2Reader(i_path) as images:\n",
    "        print(images.metadata)\n",
    "        met = metadata(images)\n",
    "        fields_of_view = (met['n_fields'])\n",
    "        z_levels = images.metadata['z_levels']\n",
    "        channels = images.metadata['channels']\n",
    "\n",
    "        # Calculate maximum intensity across all fields of view and z-levels\n",
    "        for field in range(fields_of_view):\n",
    "            print(f\"Field of view {field}, {channels}\")\n",
    "            mx_value = channel_max_no_z(images, channels, field, z_levels, i_path)\n",
    "            process_fov(images,channels, field, i_path, mx_value, z_levels)\n",
    "            "
   ]
  },
  {
   "cell_type": "markdown",
   "metadata": {},
   "source": [
    "Fluorescent images with max z-projection"
   ]
  },
  {
   "cell_type": "code",
   "execution_count": 64,
   "metadata": {},
   "outputs": [
    {
     "ename": "AttributeError",
     "evalue": "'list' object has no attribute 'stop'",
     "output_type": "error",
     "traceback": [
      "\u001b[1;31m---------------------------------------------------------------------------\u001b[0m",
      "\u001b[1;31mAttributeError\u001b[0m                            Traceback (most recent call last)",
      "Cell \u001b[1;32mIn[64], line 61\u001b[0m\n\u001b[0;32m     59\u001b[0m \u001b[38;5;28;01mwith\u001b[39;00m nd2reader\u001b[38;5;241m.\u001b[39mND2Reader(i_path) \u001b[38;5;28;01mas\u001b[39;00m images:\n\u001b[0;32m     60\u001b[0m     fields_of_view \u001b[38;5;241m=\u001b[39m images\u001b[38;5;241m.\u001b[39mmetadata[\u001b[38;5;124m'\u001b[39m\u001b[38;5;124mfields_of_view\u001b[39m\u001b[38;5;124m'\u001b[39m]\u001b[38;5;241m.\u001b[39mstop\n\u001b[1;32m---> 61\u001b[0m     z_levels \u001b[38;5;241m=\u001b[39m \u001b[43mimages\u001b[49m\u001b[38;5;241;43m.\u001b[39;49m\u001b[43mmetadata\u001b[49m\u001b[43m[\u001b[49m\u001b[38;5;124;43m'\u001b[39;49m\u001b[38;5;124;43mz_levels\u001b[39;49m\u001b[38;5;124;43m'\u001b[39;49m\u001b[43m]\u001b[49m\u001b[38;5;241;43m.\u001b[39;49m\u001b[43mstop\u001b[49m\n\u001b[0;32m     62\u001b[0m     channels \u001b[38;5;241m=\u001b[39m images\u001b[38;5;241m.\u001b[39mmetadata[\u001b[38;5;124m'\u001b[39m\u001b[38;5;124mchannels\u001b[39m\u001b[38;5;124m'\u001b[39m]\n\u001b[0;32m     64\u001b[0m     \u001b[38;5;66;03m# Calculate maximum intensity across all fields of view and z-levels\u001b[39;00m\n\u001b[0;32m     65\u001b[0m \n\u001b[0;32m     66\u001b[0m     \u001b[38;5;66;03m# Use a thread pool to parallelize processing of fields of view\u001b[39;00m\n",
      "\u001b[1;31mAttributeError\u001b[0m: 'list' object has no attribute 'stop'"
     ]
    }
   ],
   "source": [
    "def z_projection(frames):\n",
    "    # Stack frames along a new axis (Z-axis) and take the maximum along this axis\n",
    "    return np.max(np.stack(frames, axis=2), axis=2)\n",
    "\n",
    "def channel_max(images, channels, z_levels, field):\n",
    "    mx = np.zeros(len(channels))\n",
    "    for channel_index, channel_name in enumerate(channels):\n",
    "        z_slices = []\n",
    "        for level in range(z_levels):\n",
    "            frame = images.get_frame_2D(c=channel_index, z=level, v=field)\n",
    "            z_slices.append(frame)\n",
    "            z_proj_frame = z_projection(z_slices)\n",
    "            mx[channel_index] = max(mx[channel_index], np.max(z_proj_frame))\n",
    "    mx = max(mx[0], mx[2])\n",
    "    return mx\n",
    "\n",
    "# Function assignign colors of pixels by channels \n",
    "def color_channel(fr,chi, img): #BGR order in cv2\n",
    "    if chi == 0:  # First channel red in RBF\n",
    "        img[:, :, 2] = fr\n",
    "    elif chi == 1:  #\n",
    "        img[:, :, 0] = 0  # brightfield\n",
    "    elif chi == 2:  # Third channel (e.g., green)\n",
    "        img[:, :, 1] = fr  # Set green channel\n",
    "    return img\n",
    "\n",
    "def saving (img, field, i_path):\n",
    "    img_res = cv2.resize(img, (800, 600))\n",
    "    base_name = os.path.splitext(os.path.basename(i_path))[0]\n",
    "    parts = base_name.split('_')\n",
    "\n",
    "    output_subdir = os.path.join('C:/Users/srboval1/OneDrive - Aalto University/Instru/Datafiles/Exp2/LD/z_projection/', f\"{parts[0]}\")\n",
    "    os.makedirs(output_subdir, exist_ok=True)\n",
    "    \n",
    "    if parts[0] == '240630':\n",
    "        if field < 3:\n",
    "            name = os.path.join(output_subdir, f\"MCF10A_{parts[8:]}_{field}.png\")\n",
    "            cv2.imwrite(name, img_res)\n",
    "        elif field > 4:\n",
    "            name = os.path.join(output_subdir, f\"DCIS_{parts[8:]}_{field}.png\")\n",
    "            cv2.imwrite(name, img_res)\n",
    "        else:\n",
    "            name = os.path.join(output_subdir, f\"MCF10AT_{parts[8:]}_{field}.png\")\n",
    "            cv2.imwrite(name, img_res)\n",
    "\n",
    "#function processing field of view\n",
    "def process_fov(images, channels, field, i_path, mx_values):\n",
    "    height, width = images.get_frame_2D(c=1, z=7, v=field).shape\n",
    "    img = np.zeros((height, width, 3), dtype=np.uint8)\n",
    "    # Loop through each channel and assign colors\n",
    "    for channel_index, channel_name in enumerate(channels):\n",
    "        frame = images.get_frame_2D(c=channel_index, z=7, v=field)\n",
    "        fr_normalized = (frame / mx_values * 255).astype(np.uint8)\n",
    "        img = color_channel(fr_normalized, channel_index, img)\n",
    "\n",
    "        saving(img, field, i_path)      \n",
    "\n",
    "for count, i_path in enumerate(paths):\n",
    "    with nd2reader.ND2Reader(i_path) as images:\n",
    "        fields_of_view = images.metadata['fields_of_view'].stop\n",
    "        z_levels = images.metadata['z_levels'].stop\n",
    "        channels = images.metadata['channels']\n",
    "\n",
    "        # Calculate maximum intensity across all fields of view and z-levels\n",
    "\n",
    "        # Use a thread pool to parallelize processing of fields of view\n",
    "        for field in range(fields_of_view):\n",
    "            mx_value = channel_max(images, channels, z_levels, field)\n",
    "            process_fov(images,channels, field, i_path, mx_value)\n",
    "            "
   ]
  },
  {
   "cell_type": "code",
   "execution_count": null,
   "metadata": {},
   "outputs": [],
   "source": []
  }
 ],
 "metadata": {
  "kernelspec": {
   "display_name": "myenv",
   "language": "python",
   "name": "python3"
  },
  "language_info": {
   "codemirror_mode": {
    "name": "ipython",
    "version": 3
   },
   "file_extension": ".py",
   "mimetype": "text/x-python",
   "name": "python",
   "nbconvert_exporter": "python",
   "pygments_lexer": "ipython3",
   "version": "3.8.20"
  }
 },
 "nbformat": 4,
 "nbformat_minor": 2
}
